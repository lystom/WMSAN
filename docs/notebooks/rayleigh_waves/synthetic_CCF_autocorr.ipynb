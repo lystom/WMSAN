{
 "cells": [
  {
   "cell_type": "markdown",
   "metadata": {},
   "source": [
    "# Rayleigh Waves Synthetic Auto-correlation Functions"
   ]
  },
  {
   "cell_type": "code",
   "execution_count": null,
   "metadata": {},
   "outputs": [],
   "source": [
    "## Distributed python packages\n",
    "import os\n",
    "import numpy as np\n",
    "import matplotlib.pyplot as plt\n",
    "import matplotlib\n",
    "import xarray as xr\n",
    "\n",
    "import pandas as pd\n",
    "import time as ttime\n",
    "\n",
    "from cartopy import crs as ccrs\n",
    "from cartopy import feature as cfeature\n",
    "from math import radians, log\n",
    "from datetime import datetime\n",
    "from wmsan.synthetics import *\n",
    "\n",
    "%matplotlib inline\n",
    "__author__ = \"Lisa Tomasetto\"\n",
    "__copyright__ = \"Copyright 2024, UGA\"\n",
    "__credits__ = [\"Lisa Tomasetto\"]\n",
    "__version__ = \"2025.0.0\"\n",
    "__maintainer__ = \"Lisa Tomasetto\"\n",
    "__email__ = \"lisa.tomasetto@gmail.com\"\n",
    "__status__ = \"Developpement\""
   ]
  },
  {
   "cell_type": "markdown",
   "metadata": {},
   "source": [
    "## Make Nice Plots"
   ]
  },
  {
   "cell_type": "code",
   "execution_count": null,
   "metadata": {},
   "outputs": [],
   "source": [
    "plt.style.use(\"ggplot\")\n",
    "SMALL_SIZE = 18\n",
    "MEDIUM_SIZE = 22\n",
    "BIGGER_SIZE = 24\n",
    "\n",
    "plt.rc('font', size=SMALL_SIZE)          # controls default text sizes\n",
    "plt.rc('axes', titlesize=SMALL_SIZE)     # fontsize of the axes title\n",
    "plt.rc('axes', labelsize=MEDIUM_SIZE)    # fontsize of the x and y labels\n",
    "plt.rc('xtick', labelsize=SMALL_SIZE)    # fontsize of the tick labels\n",
    "plt.rc('ytick', labelsize=SMALL_SIZE)    # fontsize of the tick labels\n",
    "plt.rc('legend', fontsize=SMALL_SIZE)    # legend fontsize\n",
    "plt.rc('figure', titlesize=BIGGER_SIZE)  # fontsize of the figure title\n",
    "matplotlib.rcParams['pdf.fonttype'] = 42"
   ]
  },
  {
   "cell_type": "markdown",
   "metadata": {},
   "source": [
    "## Theory \n",
    "We will compute synthetic Cross-correlations between vertical components, using the formulation given in Tomasetto et al.(2024). Using the representation theorem and assuming spatially uncorrelated sources one can write the cross-correlation function between sensors A and B as:\n",
    "\n",
    "$$ C(r_A, r_B, t) = \\mathcal{FT}^{-1}\\left[ \\int_{\\partial D} G(r_A, r, f) G^*(r_B, r, f) S(r,f) dr \\right] $$\n",
    "\n",
    "with:\n",
    "- $G(r_A, r, f)$ the Green's function between a source in $ r $ and station A in $ r_A $. Here computed in AxiSEM.\n",
    "- $S(r,f)$ the source PSD at position $ r $. Here given by the square of proxy for the source force amplitude computed in microseismic_sources.ipynb.\n",
    "- $^*$ denotes the complex conjugate.\n",
    "- $\\partial D$ the domain of potential sources, here, the ocean's surface.\n",
    "- $\\mathcal{FT}^{-1}$ the Fourier transform.\n",
    "\n",
    "#### References \n",
    "\n",
    "- [Nissen-Meyer, T., van Driel, M., Stähler, S. C., Hosseini, K., Hempel, S., Auer, L., ... & Fournier, A. (2014). AxiSEM: broadband 3-D seismic wavefields in axisymmetric media. Solid Earth, 5(1), 425-445.](https://se.copernicus.org/articles/5/425/2014/)\n",
    "\n",
    "- [Tomasetto, L., Boué, P., Stehly, L., Ardhuin, F., & Nataf, H. C. (2024). On the stability of mantle‐sensitive P‐wave interference during a secondary microseismic event. Geophysical Research Letters, 51(8), e2023GL108018.](https://agupubs.onlinelibrary.wiley.com/doi/10.1029/2023GL108018)"
   ]
  },
  {
   "cell_type": "markdown",
   "metadata": {},
   "source": [
    "## Create Synthetic Waveforms Database\n",
    "\n",
    "In the following, we will use an AxiSEM archive file of seismic waveforms computed in ak135f model and sampled at 1 Hz.\n",
    "\n",
    "First we will read and plot the archive.\n",
    "\n",
    "[WARNING]\n",
    "Please download the archive before running the following cells! \n",
    "\n",
    "Avalaible from: https://zenodo.org/records/11126562\n",
    "\n",
    "Save in /ww3-source-maps/data/"
   ]
  },
  {
   "cell_type": "code",
   "execution_count": null,
   "metadata": {},
   "outputs": [],
   "source": [
    "## Open Archive \n",
    "path_file_axisem = '../../data/NOISE_vertforce_dirac_0-ak135f_1.s_3600s.h5'\n",
    "fe, time, N = get_synthetic_info(path_file_axisem=path_file_axisem, comp='Z')\n",
    "\n",
    "distance = np.arange(0, 180.1, 0.1)\n",
    "M = len(distance)\n",
    "archive = np.zeros((M, N))\n",
    "\n",
    "for i in range(M):\n",
    "    archive[i,:] = open_axisem(distance[i], path_file_axisem=path_file_axisem, comp='Z')\n"
   ]
  },
  {
   "cell_type": "code",
   "execution_count": null,
   "metadata": {},
   "outputs": [],
   "source": [
    "## Plot archive\n",
    "plt.figure()\n",
    "plt.pcolormesh(time, distance, archive,cmap='seismic', vmin=-10, vmax = 10)\n",
    "plt.colorbar()\n",
    "plt.xlabel('time')\n",
    "plt.ylabel('distance')\n",
    "plt.xlim(0, 3600)\n",
    "plt.show()"
   ]
  },
  {
   "cell_type": "markdown",
   "metadata": {},
   "source": [
    "## Tapering\n",
    "\n",
    "Then we taper the synthetics waveforms between two given surface waves velocities.\n",
    "\n",
    "### Radial Component"
   ]
  },
  {
   "cell_type": "code",
   "execution_count": null,
   "metadata": {},
   "outputs": [],
   "source": [
    "## Taper\n",
    "Umin = 2.5\n",
    "Umax = 4.2\n",
    "\n",
    "file_name_taper = '../../data/NOISE_vertforce_dirac_0-ak135f_1.s_3600_tapered_R.h5'\n",
    "\n",
    "if os.path.isfile(file_name_taper):\n",
    "    print('Tapered archive already exists')\n",
    "    ## Open tapered archive\n",
    "    h5_file = h5py.File(file_name_taper, 'r')\n",
    "    tapered_archive = h5_file['WAVEFORMS'][:]\n",
    "    h5_file.close()\n",
    "    \n",
    "else:\n",
    "    tapered_archive = taper_axisem_archive(time, distance, archive_name=path_file_axisem, umin = Umin, umax=Umax, comp='R')"
   ]
  },
  {
   "cell_type": "code",
   "execution_count": null,
   "metadata": {},
   "outputs": [],
   "source": [
    "## Plot Tapered archive \n",
    "\n",
    "plt.figure(figsize=(10, 5))\n",
    "plt.pcolormesh(time, distance, tapered_archive, cmap='seismic', vmin=-10, vmax = 10)\n",
    "plt.plot(distance*(np.pi*6371)/180/Umin, distance, 'r')\n",
    "plt.plot(distance*(np.pi*6371)/180/Umax, distance, 'g')\n",
    "plt.colorbar()\n",
    "plt.xlabel('time')\n",
    "plt.ylabel('distance')\n",
    "plt.xlim(0, 3600)\n",
    "plt.savefig('GF_archive.png', dpi=300, bbox_inches='tight')\n"
   ]
  },
  {
   "cell_type": "code",
   "execution_count": null,
   "metadata": {},
   "outputs": [],
   "source": [
    "file_name_spectrum = '../../data/spectrum_archive_tapered_R.h5'\n",
    "\n",
    "if os.path.isfile(file_name_spectrum):\n",
    "    print('Spectrum archive already exists')\n",
    "    ## Open Spectrum archive\n",
    "    h5_file = h5py.File(file_name_spectrum, 'r')\n",
    "    spectrum_archive_R = h5_file['SPECTRUM'][:]\n",
    "    frequency = h5_file['frequency'][:]\n",
    "    distance = h5_file['distance'][:]\n",
    "    print(spectrum_archive_R.shape)\n",
    "else:\n",
    "    ## Create Spectrum archive from the tapered one\n",
    "    create_spectrum_archive(time, distance, tapered_archive, file_name_spectrum)"
   ]
  },
  {
   "cell_type": "markdown",
   "metadata": {},
   "source": [
    "### Vertical Component"
   ]
  },
  {
   "cell_type": "code",
   "execution_count": null,
   "metadata": {},
   "outputs": [],
   "source": [
    "## Taper\n",
    "Umin = 2500 # minimum Rayleigh wave velocity in m/s \n",
    "Umax = 4200 # minimum Rayleigh wave velocity in m/s \n",
    "\n",
    "file_name_taper = '../../data/NOISE_vertforce_dirac_0-ak135f_1.s_3600_tapered_Z.h5'\n",
    "\n",
    "if os.path.isfile(file_name_taper):\n",
    "    print('Tapered archive already exists')\n",
    "    ## Open tapered archive\n",
    "    h5_file = h5py.File(file_name_taper, 'r')\n",
    "    tapered_archive = h5_file['WAVEFORMS'][:]\n",
    "    h5_file.close()\n",
    "    \n",
    "else:\n",
    "    tapered_archive = taper_axisem_archive(time, distance, archive_name=path_file_axisem, umin = Umin, umax=Umax, comp='Z')"
   ]
  },
  {
   "cell_type": "code",
   "execution_count": null,
   "metadata": {},
   "outputs": [],
   "source": [
    "## Plot Tapered archive \n",
    "\n",
    "plt.figure(figsize=(10, 5))\n",
    "plt.pcolormesh(time, distance, tapered_archive, cmap='seismic', vmin=-10, vmax = 10)\n",
    "plt.plot(distance*(np.pi*6371)/180/Umin, distance, 'r')\n",
    "plt.plot(distance*(np.pi*6371)/180/Umax, distance, 'g')\n",
    "plt.colorbar()\n",
    "plt.xlabel('time')\n",
    "plt.ylabel('distance')\n",
    "plt.xlim(0, 3600)\n",
    "plt.savefig('GF_archive.png', dpi=300, bbox_inches='tight')"
   ]
  },
  {
   "cell_type": "code",
   "execution_count": null,
   "metadata": {},
   "outputs": [],
   "source": [
    "file_name_spectrum = '../../data/spectrum_archive_tapered_Z.h5'\n",
    "\n",
    "if os.path.isfile(file_name_spectrum):\n",
    "    print('Spectrum archive already exists')\n",
    "    ## Open Spectrum archive\n",
    "    h5_file = h5py.File(file_name_spectrum, 'r')\n",
    "    spectrum_archive_Z = h5_file['SPECTRUM'][:]\n",
    "    frequency = h5_file['frequency'][:]\n",
    "    distance = h5_file['distance'][:]\n",
    "    print(spectrum_archive_Z.shape)\n",
    "else:\n",
    "    ## Create Spectrum archive from the tapered one\n",
    "    create_spectrum_archive(time, distance, tapered_archive, file_name_spectrum)"
   ]
  },
  {
   "cell_type": "markdown",
   "metadata": {},
   "source": [
    "## Synthetics Computation\n",
    "\n",
    "## Spatial Extent"
   ]
  },
  {
   "cell_type": "code",
   "execution_count": null,
   "metadata": {},
   "outputs": [],
   "source": [
    "## Spatial Exent\n",
    "lon_min = 170\n",
    "lon_max = -120\n",
    "lat_min = 30\n",
    "lat_max = 70\n",
    "\n",
    "extent = [lon_min, lon_max, lat_min, lat_max]"
   ]
  },
  {
   "cell_type": "markdown",
   "metadata": {},
   "source": [
    "## Station Pairs and Metadata"
   ]
  },
  {
   "cell_type": "code",
   "execution_count": null,
   "metadata": {},
   "outputs": [],
   "source": [
    "## Station Pairs Metadata\n",
    "id_sta = \"OO.HYSB1.00\"\n",
    "lat_sta = 44.509791\n",
    "lon_sta = -125.405258\n",
    "\n",
    "fig = plt.figure(figsize=(10,10))\n",
    "ax = fig.add_subplot(111, projection=ccrs.Mollweide())\n",
    "ax.set_extent(extent, crs=ccrs.PlateCarree())\n",
    "ax.add_feature(cfeature.COASTLINE)\n",
    "ax.add_feature(cfeature.BORDERS, linestyle='-', alpha=1)\n",
    "ax.add_feature(cfeature.LAKES, alpha=0.5)\n",
    "ax.add_feature(cfeature.RIVERS)\n",
    "ax.add_feature(cfeature.STATES)\n",
    "ax.add_feature(cfeature.LAND, color='linen', zorder=0)\n",
    "ax.add_feature(cfeature.OCEAN, color='lightsteelblue', zorder=0)\n",
    "ax.annotate(id_sta, (lon_sta-0.1, lat_sta+0.8), transform = ccrs.PlateCarree(), family = 'sans-serif')\n",
    "ax.plot(lon_sta, lat_sta, transform = ccrs.PlateCarree(), color='k', alpha=0.5, linewidth=3)\n",
    "plt.show()"
   ]
  },
  {
   "cell_type": "markdown",
   "metadata": {},
   "source": [
    "## Dates "
   ]
  },
  {
   "cell_type": "code",
   "execution_count": null,
   "metadata": {},
   "outputs": [],
   "source": [
    "## Dates\n",
    "start = datetime(2015, 1, 3, 0, 0, 0)\n",
    "end = datetime(2015, 1, 7, 23, 59, 59)\n",
    "\n",
    "dates = pd.date_range(start, end, freq='3h')\n",
    "\n",
    "dates_vector = create_date_vect(dates)"
   ]
  },
  {
   "cell_type": "markdown",
   "metadata": {},
   "source": [
    "## Open WAVEWATCHIII Equivalent Force Amplitude"
   ]
  },
  {
   "cell_type": "code",
   "execution_count": null,
   "metadata": {},
   "outputs": [],
   "source": [
    "## Open Model\n",
    "path_model = './F/'"
   ]
  },
  {
   "cell_type": "markdown",
   "metadata": {},
   "source": [
    "## Open Synthetics Archive "
   ]
  },
  {
   "cell_type": "code",
   "execution_count": null,
   "metadata": {},
   "outputs": [],
   "source": [
    "## Open GF archive info\n",
    "### Radial Component\n",
    "fe , freq, distance, spectrum_synth_R = open_archive('../../data/spectrum_archive_tapered_R.h5')\n",
    "N_time = len(time)\n",
    "\n",
    "### Vertical Component\n",
    "fe , freq, distance, spectrum_synth_Z = open_archive('../../data/spectrum_archive_tapered_Z.h5')\n"
   ]
  },
  {
   "cell_type": "markdown",
   "metadata": {},
   "source": [
    "## Synthetic Cross-correlation Computation"
   ]
  },
  {
   "cell_type": "code",
   "execution_count": null,
   "metadata": {},
   "outputs": [],
   "source": [
    "## Compute CCF and save it\n",
    "coords_sta = [lon_sta, lat_sta]\n",
    "#### Keep Correlations\n",
    "corr_3h = np.zeros((len(dates_vector), N_time))\n",
    "comp = 'ZN'\n",
    "### Date Info\n",
    "for i, date_vect in enumerate(dates_vector):\n",
    "    ### CCF\n",
    "    filename_ccf = './CCF/ccf_%s_%d%02d%02d%02d.nc'%(id,  date_vect[0],date_vect[1],date_vect[2],date_vect[3]) # File Name Understandable\n",
    "\n",
    "    if os.path.exists(filename_ccf):  # Check if file already exists\n",
    "        print('%s already computed'%filename_ccf)\n",
    "        corr = xr.open_dataarray(filename_ccf)\n",
    "    else:  # if not, compute CCF\n",
    "        t1 = ttime.perf_counter()\n",
    "        corr, time_corr = ccf_computation_autocorr(coords_sta, path_model, date_vect, spectrum_synth_R, spectrum_synth_Z,extent=extent, fe=fe, N=N_time, comp=comp)\n",
    "        t2 = ttime.perf_counter()\n",
    "        print(\" Time for station pair: \", id_sta, id_sta, \" elapsed: \", t2-t1)\n",
    "        try:\n",
    "            corr.to_netcdf('./CCF/ccf_%s_%d%02d%02d%02d.nc'%(id_sta, date_vect[0],date_vect[1],date_vect[2],date_vect[3]))\n",
    "        except:\n",
    "            print(\"make directory\")\n",
    "            os.mkdir('./CCF')\n",
    "            corr.to_netcdf('./CCF/ccf_%s_%d%02d%02d%02d.nc'%(id_sta, date_vect[0],date_vect[1],date_vect[2],date_vect[3]))\n",
    "    corr_3h[i, :] = corr.values\n",
    "    # TAKES 25 MIN #"
   ]
  },
  {
   "cell_type": "markdown",
   "metadata": {},
   "source": [
    "## Plot"
   ]
  },
  {
   "cell_type": "code",
   "execution_count": null,
   "metadata": {},
   "outputs": [],
   "source": [
    "## Plot stack \n",
    "\n",
    "plt.figure()\n",
    "plt.plot(corr.time, np.mean(corr_3h, axis=0), 'k')\n",
    "plt.xlim(-200, 200)\n",
    "plt.xlabel('Lag Time (s)')\n",
    "plt.title('%s - %s stack'%(id_sta, id_sta))\n",
    "plt.show()\n",
    "\n",
    "## Plot CCF\n",
    "normalize_corr = np.nanmax(abs(corr_3h))\n",
    "dates_corr = dates\n",
    "\n",
    "fig, ax = plt.subplots(figsize=(10,8))\n",
    "im = plt.pcolormesh(corr.time, np.arange(len(dates_vector)), corr_3h/normalize_corr, cmap='bone', vmin= -1, vmax = 1)\n",
    "#ax.plot(corr.time, corr_3h.T/normalize_corr + np.arange(len(dates_vector)), 'k') \n",
    "plt.colorbar(im, ax=ax)\n",
    "ax.set_xlabel('Lag Time (s)')\n",
    "ax.set_ylabel('Date')\n",
    "ax.set_title('%s-%s CCF'%(id_sta, id_sta))\n",
    "ax.set_xlim(-200, 200)\n",
    "ax.set_ylim(0, len(dates_vector))\n",
    "ax.set_yticks(np.arange(len(dates_vector))[::8])\n",
    "ax.set_yticklabels(dates[::8].strftime('%Y-%m-%dT%H'))\n",
    "\n",
    "plt.savefig('ccf_%s_%s_%s_synth.png'%(id_sta, id_sta, comp), dpi=300, bbox_inches='tight')"
   ]
  }
 ],
 "metadata": {
  "kernelspec": {
   "display_name": "wmsan_test",
   "language": "python",
   "name": "python3"
  },
  "language_info": {
   "codemirror_mode": {
    "name": "ipython",
    "version": 3
   },
   "file_extension": ".py",
   "mimetype": "text/x-python",
   "name": "python",
   "nbconvert_exporter": "python",
   "pygments_lexer": "ipython3",
   "version": "3.12.11"
  }
 },
 "nbformat": 4,
 "nbformat_minor": 2
}
