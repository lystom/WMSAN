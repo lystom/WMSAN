{
 "cells": [
  {
   "cell_type": "code",
   "execution_count": null,
   "metadata": {},
   "outputs": [],
   "source": [
    "## Distributed python packages\n",
    "import os\n",
    "import numpy as np\n",
    "import matplotlib.pyplot as plt\n",
    "import xarray as xr\n",
    "import datetime\n",
    "\n",
    "from cartopy import crs as ccrs\n",
    "from cartopy import feature as cfeature\n",
    "from math import radians, log\n",
    "## Own python package\n",
    "from subfunctions_source_DF import open_bathy, ampli\n",
    "__author__ = \"Lisa Tomasetto\"\n",
    "__copyright__ = \"Copyright 2024, UGA\"\n",
    "__credits__ = [\"Lisa Tomasetto\"]\n",
    "__version__ = \"2.0\"\n",
    "__maintainer__ = \"Lisa Tomasetto\"\n",
    "__email__ = \"lisa.tomasetto@univ-grenoble-alpes.fr\"\n",
    "__status__ = \"Production\""
   ]
  },
  {
   "cell_type": "markdown",
   "metadata": {},
   "source": [
    "# Spatial Extent"
   ]
  },
  {
   "cell_type": "markdown",
   "metadata": {},
   "source": []
  },
  {
   "cell_type": "code",
   "execution_count": null,
   "metadata": {},
   "outputs": [],
   "source": [
    "# extent\n",
    "lat_min = 30 # -78 min\n",
    "lat_max = 50 # 80 max\n",
    "lon_min = 0 # -180 min\n",
    "lon_max = 20 # 180 max\n",
    "\n",
    "extent = [lon_min, lon_max, lat_min, lat_max]"
   ]
  },
  {
   "cell_type": "markdown",
   "metadata": {},
   "source": [
    "# Open Bathymetry\n",
    "\n",
    "- 0.5°x0.5° default bathymetry file."
   ]
  },
  {
   "cell_type": "code",
   "execution_count": null,
   "metadata": {},
   "outputs": [],
   "source": [
    "# bathymetry default\n",
    "file_bathy = \"./ww3.07121700.dpt\"  #0.5x0.5 degree grid bathymetry\n",
    "dpt1, zlon, zlat = open_bathy(file_bathy, refined_bathymetry=True, extent=extent)\n",
    "\n",
    "# Plot\n",
    "dpt1.plot(cmap='ocean_r')\n",
    "plt.show()"
   ]
  },
  {
   "cell_type": "markdown",
   "metadata": {},
   "source": [
    "# Amplification Coefficients \n",
    "We compute the amplification coefficient for body waves (or ocean site effect on body waves) as:\n",
    "\n",
    "$ c_{P/S} = \\sqrt{\\int_0^{\\theta^*_{P_w}} \\left \\vert \\frac{T_{P/S}(\\theta_{P_w})}{1+R(\\theta_{P_w}\\exp ^{i\\phi_w(h(r), 2\\pi f,\\theta_{P_w})})}\\right \\vert^2 d\\theta_{P_w}} $\n",
    "\n",
    "with:\n",
    "-  $ h $ the ocean depth,\n",
    "-  $ \\theta_{P_w} $ (default 15.71°) the P-wave takeoff angle range,\n",
    "-  $ \\Phi_w $ the plane P-wave potential propagating in water,\n",
    "-  $ R $ the seabed interface reflexion coefficient\n",
    "-  $ T_{P/S} $ the seabed interface P or S wave transmission coefficicent. \n",
    "\n",
    "\n",
    "For details on the computation see references:\n",
    "- L. Gualtieri, E. Stutzmann, V. Farra, Y. Capdeville, M. Schimmel, F. Ardhuin, A. Morelli, Modelling the ocean site effect on seismic noise body waves, Geophysical Journal International, Volume 197, Issue 2, May 2014, Pages 1096–1106, https://doi.org/10.1093/gji/ggu042"
   ]
  },
  {
   "cell_type": "code",
   "execution_count": null,
   "metadata": {},
   "outputs": [],
   "source": [
    "# Amplification Coefficient Computation\n",
    "print(\"THIS SHOULD TAKE 25 MINUTES TO RUN\")\n",
    "fpath = './'\n",
    "f = np.array([0.08203799, 0.0902418, 0.09926598, 0.10919258, 0.12011184, 0.13212304,\n",
    "                0.14533535, 0.15986888, 0.17585577, 0.19344135, 0.21278548, 0.23406404,\n",
    "                0.25747046, 0.28321752, 0.3115393,  0.34269324, 0.37696257, 0.41465884,\n",
    "                0.45612472, 0.50173724, 0.55191094, 0.60710204])\n",
    "\n",
    "cP, cS, bathy_ampli_P, bathy_ampli_S = ampli(dpt1.values, f)\n",
    "region = [np.min(zlon), np.max(zlon), np.min(zlat), np.max(zlat)]"
   ]
  },
  {
   "cell_type": "code",
   "execution_count": null,
   "metadata": {},
   "outputs": [],
   "source": [
    "frequency_value = 0.1\n",
    "## \n",
    "freq_index = np.argmin(np.abs(f - frequency_value))\n",
    "\n",
    "# Plot \n",
    "fig = plt.figure(figsize=(10, 10))\n",
    "ax = plt.axes(projection=ccrs.PlateCarree())\n",
    "ax.set_title(\"Frequency : %s [Hz]\"%frequency_value)\n",
    "ax.add_feature(cfeature.BORDERS)\n",
    "ax.add_feature(cfeature.LAND, edgecolor='k', facecolor='lightgrey')\n",
    "im = ax.pcolormesh(zlon, zlat, cP[freq_index, :, :], shading='auto', cmap='plasma', rasterized=True, transform=ccrs.PlateCarree())\n",
    "plt.colorbar(im, shrink=0.8, ax=ax, label=\"Amplification Coefficient\")\n",
    "ax.gridlines()\n",
    "ax.coastlines()\n",
    "plt.show()"
   ]
  },
  {
   "cell_type": "markdown",
   "metadata": {},
   "source": [
    "## Save as Netcdf"
   ]
  },
  {
   "cell_type": "code",
   "execution_count": null,
   "metadata": {},
   "outputs": [],
   "source": [
    "# Create netCDF \n",
    "import netCDF4 as nc\n",
    "## cP\n",
    "ncfile = nc.Dataset(\"cP_custom.nc\", mode='w',format='NETCDF4_CLASSIC')\n",
    "lat_dim = ncfile.createDimension('latitude', len(zlat))  # latitude axis\n",
    "lon_dim = ncfile.createDimension('longitude', len(zlon))  # longitude axis\n",
    "freq_dim = ncfile.createDimension('frequency', len(f))\n",
    "ncfile.title='Amplification Coefficient P-waves',\n",
    "ncfile.subtitle='Amplification Coefficient P-waves for custom spatial extent ETOPOv2 Bathymetry'\n",
    "lat = ncfile.createVariable('latitude', np.float64, ('latitude',))\n",
    "lat.units = 'degrees_north'\n",
    "lat.long_name = 'latitude'\n",
    "lon = ncfile.createVariable('longitude', np.float64, ('longitude',))\n",
    "lon.units = 'degrees_east'\n",
    "lon.long_name = 'longitude'\n",
    "freq_nc = ncfile.createVariable('frequency', np.float64, ('frequency',))\n",
    "freq_nc.units = 'Hz'\n",
    "freq_nc.long_name = 'frequency'\n",
    "c_P = ncfile.createVariable('cP', np.float64, ('frequency','latitude', 'longitude'))\n",
    "c_P.units = ''\n",
    "c_P.long_name = 'Amplification Coefficient P-waves'\n",
    "lat[:] = zlat\n",
    "lon[:] = zlon\n",
    "freq_nc[:] = f\n",
    "c_P[:] = cP\n",
    "ncfile.close()\n",
    "\n",
    "## cS\n",
    "ncfile = nc.Dataset(\"cS_custom.nc\", mode='w',format='NETCDF4_CLASSIC')\n",
    "lat_dim = ncfile.createDimension('latitude', len(zlat))  # latitude axis\n",
    "lon_dim = ncfile.createDimension('longitude', len(zlon))  # longitude axis\n",
    "freq_dim = ncfile.createDimension('frequency', len(f))\n",
    "ncfile.title='Amplification Coefficient S-waves',\n",
    "ncfile.subtitle='Amplification Coefficient S-waves for custom spatial extent ETOPOv2 Bathymetry'\n",
    "lat = ncfile.createVariable('latitude', np.float32, ('latitude',))\n",
    "lat.units = 'degrees_north'\n",
    "lat.long_name = 'latitude'\n",
    "lon = ncfile.createVariable('longitude', np.float32, ('longitude',))\n",
    "lon.units = 'degrees_east'\n",
    "lon.long_name = 'longitude'\n",
    "freq_nc = ncfile.createVariable('frequency', np.float32, ('frequency',))\n",
    "freq_nc.units = 'Hz'\n",
    "freq_nc.long_name = 'frequency'\n",
    "c_S = ncfile.createVariable('cS', np.float32, ('frequency','latitude', 'longitude'))\n",
    "c_S.units = ''\n",
    "c_S.long_name = 'Amplification Coefficient S-waves'\n",
    "lat[:] = zlat\n",
    "lon[:] = zlon\n",
    "freq_nc[:] = f\n",
    "c_S[:] = cS\n",
    "ncfile.close()"
   ]
  }
 ],
 "metadata": {
  "kernelspec": {
   "display_name": "notebook",
   "language": "python",
   "name": "python3"
  },
  "language_info": {
   "codemirror_mode": {
    "name": "ipython",
    "version": 3
   },
   "file_extension": ".py",
   "mimetype": "text/x-python",
   "name": "python",
   "nbconvert_exporter": "python",
   "pygments_lexer": "ipython3",
   "version": "3.8.18"
  }
 },
 "nbformat": 4,
 "nbformat_minor": 2
}
