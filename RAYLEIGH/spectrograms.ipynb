{
 "cells": [
  {
   "cell_type": "code",
   "execution_count": null,
   "metadata": {},
   "outputs": [],
   "source": [
    "## Distributed python packages\n",
    "import os\n",
    "import numpy as np\n",
    "import matplotlib.pyplot as plt\n",
    "import xarray as xr\n",
    "import datetime\n",
    "\n",
    "from math import radians, log\n",
    "## Own python package\n",
    "from source_microseism import spectrogram\n",
    "__author__ = \"Lisa Tomasetto\"\n",
    "__copyright__ = \"Copyright 2024, UGA\"\n",
    "__credits__ = [\"Lisa Tomasetto\"]\n",
    "__version__ = \"1.0\"\n",
    "__maintainer__ = \"Lisa Tomasetto\"\n",
    "__email__ = \"lisa.tomasetto@univ-grenoble-alpes.fr\"\n",
    "__status__ = \"Developpement\""
   ]
  },
  {
   "cell_type": "markdown",
   "metadata": {},
   "source": [
    "# Spectrograms From WW3 Hindcast\n",
    "\n",
    "This Jupyter Notebook aims at computing spectrograms from oceanographic hindcast WAVEWWATCHIII. This is the sequel of another Notebook entitled \"Rayleigh Source of Microseisms\" in which the user can save the sources of Rayleigh waves matrix.\n",
    "\n",
    "[NOTE TO THE USER]\n",
    "\n",
    "If you haven't run the first notebook with the ```save = True``` variable, please do before continuing. "
   ]
  },
  {
   "cell_type": "code",
   "execution_count": null,
   "metadata": {},
   "outputs": [],
   "source": [
    "## Path to netcdf\n",
    "path_netcdf = '/Users/tomasetl/Documents/code/ocean_source/pr_oceanswell/rayleigh/SDF/'\n",
    "\n",
    "## Dates\n",
    "start_date = datetime.datetime(2008, 3, 8, 0, 0, 0)\n",
    "end_date = datetime.datetime(2008, 3, 19, 0, 0, 0)\n",
    "dates = np.arange(start_date, end_date, datetime.timedelta(hours=3))"
   ]
  },
  {
   "cell_type": "markdown",
   "metadata": {},
   "source": [
    "## Spectrogram Computation\n",
    "\n",
    "We compute spectrograms using equations given by Ardhuin et al. (2011).\n",
    "The previous code computes the equivalent source of the power spectrum of the vertical displacement $SDF(f_s)$ in $\\text{m.s}$.\n",
    "From it, we compute the power spectrum of the vertical **ground** displacement at a station of latitude $\\lambda$ and longitude $\\phi$ in $\\text{m}^2.\\text{s}^{-1}$, \n",
    "$$F_{\\delta}(\\lambda, \\phi, f_s) = \\int_{-\\pi/2}^{\\pi/2} \\int_0^{2\\pi} \\frac{S_{DF}(f_s)}{R_E sin\\Delta} e^{-2\\pi f_s\\Delta R_E(UQ)}(R_E^2sin\\phi'd\\lambda'd\\phi')$$\n",
    "with\n",
    "- $Q$: the dissipation quality factor\n",
    "- $\\Delta$: the distance between source and station\n",
    "- $R_E$: Earth's Radius in meters\n",
    "- $U$: the group velocity of Rayleigh waves\n",
    "\n",
    "We plot the modeled spectrogram at each timestep of the model (3-hour resolution) as:\n",
    "$$S_{spectrogram}(f_s) = 10log_{10}(\\sqrt{F_{\\delta}(\\lambda, \\phi, f_s)})$$\n"
   ]
  },
  {
   "cell_type": "markdown",
   "metadata": {},
   "source": [
    "## Spectrogram Plot\n",
    "\n",
    "We plot here the synthetic spectrogram using the function spectrogram.\n",
    "This function has 2 mandatory arguments:\n",
    "- path_to_netcdf : the path to netcdf files computed previously\n",
    "- dates : date vector computed above\n",
    "\n",
    "And 4 optional arguments:\n",
    "- param lon_sta: float, optional, longitude of the station (default=-21.3268) II.BORG \n",
    "- param lat_sta: float, optional, latitude of the station (default=64.7474) II.BORG\n",
    "- param Q: int, optional, attenuation factor constant (default=200)\n",
    "- param U: int, optional, group velocity of Rayleigh waves constant (default=1800 m/s)\n",
    "    "
   ]
  },
  {
   "cell_type": "code",
   "execution_count": null,
   "metadata": {},
   "outputs": [],
   "source": [
    "spectrogram(path_netcdf, dates, lon_sta=-158.011 , lat_sta=21.42 , Q=580)"
   ]
  },
  {
   "cell_type": "markdown",
   "metadata": {},
   "source": [
    "## Real Data Comparison\n",
    "\n",
    "Let's compare to real data. Here we computed the spectrogram for station IU.KIP, from the 8-19 March 2008. "
   ]
  },
  {
   "cell_type": "code",
   "execution_count": null,
   "metadata": {},
   "outputs": [],
   "source": [
    "from obspy.clients.fdsn import Client\n",
    "from obspy import UTCDateTime\n",
    "from obspy.imaging.spectrogram import spectrogram\n",
    "\n",
    "# Set Dates\n",
    "t1 = UTCDateTime(start_date)\n",
    "t2 = UTCDateTime(end_date)\n",
    "\n",
    "# Request Data\n",
    "client = Client(\"IRIS\")\n",
    "st = client.get_waveforms(\"IU\", \"KIP\", \"*\", \"LHZ\", t1, t2, attach_response=True)\n",
    "st.remove_response()\n",
    "st.detrend()\n",
    "tr_filt = st[0].copy()\n",
    "tr_filt.filter('bandpass', freqmin=0.1, freqmax=0.45, corners=2, zerophase=True)  # Filter in Secondary Microseisms Frequency Range\n",
    "\n",
    "# Plot\n",
    "tr_filt.spectrogram(show=True, cmap='jet', dbscale = True, per_lap = 0.8, wlen=5000)  # Plot Spectrogram"
   ]
  }
 ],
 "metadata": {
  "kernelspec": {
   "display_name": "notebook",
   "language": "python",
   "name": "python3"
  },
  "language_info": {
   "codemirror_mode": {
    "name": "ipython",
    "version": 3
   },
   "file_extension": ".py",
   "mimetype": "text/x-python",
   "name": "python",
   "nbconvert_exporter": "python",
   "pygments_lexer": "ipython3",
   "version": "3.8.18"
  }
 },
 "nbformat": 4,
 "nbformat_minor": 2
}
