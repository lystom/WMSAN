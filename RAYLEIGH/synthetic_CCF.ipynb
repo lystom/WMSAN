{
 "cells": [
  {
   "cell_type": "code",
   "execution_count": null,
   "metadata": {},
   "outputs": [],
   "source": [
    "%matplotlib widget\n",
    "## Distributed python packages\n",
    "import os\n",
    "import numpy as np\n",
    "import matplotlib.pyplot as plt\n",
    "import xarray as xr\n",
    "import datetime\n",
    "import pandas as pd\n",
    "import time as ttime\n",
    "\n",
    "from cartopy import crs as ccrs\n",
    "from cartopy import feature as cfeature\n",
    "from math import radians, log\n",
    "\n",
    "## Own python package\n",
    "from synthetics import *\n",
    "\n",
    "%matplotlib inline\n",
    "__author__ = \"Lisa Tomasetto\"\n",
    "__copyright__ = \"Copyright 2024, UGA\"\n",
    "__credits__ = [\"Lisa Tomasetto\"]\n",
    "__version__ = \"1.0\"\n",
    "__maintainer__ = \"Lisa Tomasetto\"\n",
    "__email__ = \"lisa.tomasetto@univ-grenoble-alpes.fr\"\n",
    "__status__ = \"Developpement\""
   ]
  },
  {
   "cell_type": "markdown",
   "metadata": {},
   "source": [
    "## Matplotlib Parameters"
   ]
  },
  {
   "cell_type": "code",
   "execution_count": null,
   "metadata": {},
   "outputs": [],
   "source": [
    "plt.style.use(\"ggplot\")\n",
    "SMALL_SIZE = 18\n",
    "MEDIUM_SIZE = 22\n",
    "BIGGER_SIZE = 24\n",
    "\n",
    "plt.rc('font', size=SMALL_SIZE)          # controls default text sizes\n",
    "plt.rc('axes', titlesize=SMALL_SIZE)     # fontsize of the axes title\n",
    "plt.rc('axes', labelsize=MEDIUM_SIZE)    # fontsize of the x and y labels\n",
    "plt.rc('xtick', labelsize=SMALL_SIZE)    # fontsize of the tick labels\n",
    "plt.rc('ytick', labelsize=SMALL_SIZE)    # fontsize of the tick labels\n",
    "plt.rc('legend', fontsize=SMALL_SIZE)    # legend fontsize\n",
    "plt.rc('figure', titlesize=BIGGER_SIZE)  # fontsize of the figure title"
   ]
  },
  {
   "cell_type": "markdown",
   "metadata": {},
   "source": [
    "# Theory \n",
    "\n",
    "We will compute synthetic cross-correlations in the following Notebook. To that aim we express the cross-correlation function as derived from the representation theorem, assuming spatially uncorrelated sources. For two stations A and B at position $ x_A $ and $ x_B $ respectively, the cross-correlation between them can be written:\n",
    "$$ C(x_A, x_B, t) = \\mathcal{FT}^{-1} \\left[ \\int_{\\delta D} G(x_A, x, f) G^*(x_B, x, f) S(x, f) dx\\right] $$\n",
    "\n",
    "with:\n",
    "- $ G(x_A, x, f) $ the Green's Function between a source at $ x $ and station A at $ x_A $. We use Syngine tool to compute a data archive in the first paragraph of this Notebook.\n",
    "- $ ^* $ denotes the complex conjugate.\n",
    "- $ S(x, f) $ the source PSD, derived from the equivalent vertical force amplitude here.\n",
    "- $ t $ the time in s, $ f $ the seismic frequency in Hz."
   ]
  },
  {
   "cell_type": "markdown",
   "metadata": {},
   "source": [
    "## Create Synthetic Waveforms Database Using Syngine\n",
    "\n",
    "# RUN ONCE !!"
   ]
  },
  {
   "cell_type": "code",
   "execution_count": null,
   "metadata": {},
   "outputs": [],
   "source": [
    "## Create station file\n",
    "if os.path.exists('station_file.txt'):\n",
    "    print('Station file already exists')\n",
    "else:\n",
    "    create_station_file()"
   ]
  },
  {
   "cell_type": "code",
   "execution_count": null,
   "metadata": {},
   "outputs": [],
   "source": [
    "## Create GF Database with Syngine\n",
    "if os.path.exists('synthetics_iasp91_2s_Z.nc'):\n",
    "    print('GF archive already exists')\n",
    "else:\n",
    "    create_syngine_archive(station_file_path ='station_file.txt')"
   ]
  },
  {
   "cell_type": "code",
   "execution_count": null,
   "metadata": {},
   "outputs": [],
   "source": [
    "## Create Spectrum Database\n",
    "if os.path.exists('synthetics_iasp91_2s_Z_spectrum.h5'):\n",
    "    print('Spectrum archive already exists')\n",
    "else:\n",
    "    create_spectrum_archive() "
   ]
  },
  {
   "cell_type": "markdown",
   "metadata": {},
   "source": [
    "# Synthetics Computation\n",
    "\n",
    "## Spatial Extent"
   ]
  },
  {
   "cell_type": "code",
   "execution_count": null,
   "metadata": {},
   "outputs": [],
   "source": [
    "## Spatial Exent\n",
    "lon_min = -150\n",
    "lon_max = -20\n",
    "lat_min = 0\n",
    "lat_max = 70\n",
    "\n",
    "extent = [lon_min, lon_max, lat_min, lat_max]"
   ]
  },
  {
   "cell_type": "markdown",
   "metadata": {},
   "source": [
    "## Station Pairs and Metadata"
   ]
  },
  {
   "cell_type": "code",
   "execution_count": null,
   "metadata": {},
   "outputs": [],
   "source": [
    "## Station Pairs Metadata\n",
    "df = pd.read_csv('stations_pair.txt', sep='   ', header=None, index_col=False, names=['idA', 'idB', 'latA', 'latB', 'lonA', 'lonB'], dtype={'idA':str, 'idB':str, 'latA':float, 'latB':float, 'lonA':float, 'lonB':float}, engine='python')\n",
    "# ## Plot\n",
    "fig = plt.figure(figsize=(10,10))\n",
    "ax = fig.add_subplot(111, projection=ccrs.Mercator())\n",
    "ax.set_extent(extent, crs=ccrs.PlateCarree())\n",
    "ax.add_feature(cfeature.COASTLINE)\n",
    "ax.add_feature(cfeature.BORDERS, linestyle='-', alpha=1)\n",
    "ax.add_feature(cfeature.LAKES, alpha=0.5)\n",
    "ax.add_feature(cfeature.RIVERS)\n",
    "ax.add_feature(cfeature.STATES)\n",
    "ax.add_feature(cfeature.LAND, color='linen', zorder=0)\n",
    "ax.add_feature(cfeature.OCEAN, color='lightsteelblue', zorder=0)\n",
    "for i in range(len(df)):\n",
    "    ax.annotate(df.idA[i], (df.lonA[i]+0.1, df.latA[i]+0.1), transform = ccrs.PlateCarree(), family = 'sans-serif')\n",
    "    ax.annotate(df.idB[i], (df.lonB[i]+0.1, df.latB[i]+0.1), transform = ccrs.PlateCarree(), family = 'sans-serif')\n",
    "    ax.plot((df.lonA[i], df.lonB[i]),(df.latA[i], df.latB[i]), transform = ccrs.PlateCarree(), color='k', alpha=0.5, linewidth=3)\n",
    "df.plot.scatter(x='lonA', y='latA', s=30, ax=ax, c='r', transform = ccrs.PlateCarree())\n",
    "df.plot.scatter(x='lonB', y='latB', s=30, ax=ax, c='r', transform = ccrs.PlateCarree())\n",
    "plt.show()"
   ]
  },
  {
   "cell_type": "markdown",
   "metadata": {},
   "source": [
    "## Dates "
   ]
  },
  {
   "cell_type": "code",
   "execution_count": null,
   "metadata": {},
   "outputs": [],
   "source": [
    "## Dates\n",
    "start = datetime(1996, 3, 11, 0, 0, 0)\n",
    "end = datetime(1996, 4, 9, 0, 0, 0)\n",
    "\n",
    "dates = pd.date_range(start, end, freq='3H')\n",
    "\n",
    "dates_vector = create_date_vect(dates)"
   ]
  },
  {
   "cell_type": "markdown",
   "metadata": {},
   "source": [
    "## Open WAVEWATCHIII Equivalent Force Amplitude"
   ]
  },
  {
   "cell_type": "code",
   "execution_count": null,
   "metadata": {},
   "outputs": [],
   "source": [
    "## Open Model\n",
    "path_model = '/Users/tomasetl/Documents/code/ocean_source/pr_oceanswell/rayleigh/F/'"
   ]
  },
  {
   "cell_type": "markdown",
   "metadata": {},
   "source": [
    "## Open Syngine Archive "
   ]
  },
  {
   "cell_type": "code",
   "execution_count": null,
   "metadata": {},
   "outputs": [],
   "source": [
    "## Open GF archive info\n",
    "fe , freq, time, distance, spectrum_synth = open_archive(h5_name_spectrum='./synthetics_iasp91_2s_Z_spectrum.h5', h5_name_waveforms='./synthetics_iasp91_2s_Z_waveforms.h5')\n",
    "N_time = len(time)"
   ]
  },
  {
   "cell_type": "markdown",
   "metadata": {},
   "source": [
    "## Synthetic Cross-correlation Computation"
   ]
  },
  {
   "cell_type": "code",
   "execution_count": null,
   "metadata": {},
   "outputs": [],
   "source": [
    "## Compute CCF and save it\n",
    "### Station Pair Info\n",
    "id_A = df.idA[0]\n",
    "id_B = df.idB[0]\n",
    "coords_staA = (df.lonA[i], df.latA[i])\n",
    "coords_staB = (df.lonB[i], df.latB[i])\n",
    "\n",
    "### Date Info\n",
    "date_vect = dates_vector[0]\n",
    "\n",
    "### CCF\n",
    "filename_ccf = './CCF/ccf_%s_%s_%d%02d%02d%02d.nc'%(id_A, id_B, date_vect[0],date_vect[1],date_vect[2],date_vect[3]) # File Name Understandable\n",
    "\n",
    "if os.path.exists(filename_ccf):  # Check if file already exists\n",
    "    print('%s already computed'%filename_ccf)\n",
    "    corr = xr.open_dataarray(filename_ccf)\n",
    "else:  # if not, compute CCF\n",
    "    t1 = ttime.perf_counter()\n",
    "    corr, time_corr = ccf_computation(coords_staA, coords_staB, path_model, date_vect, spectrum_synth,extent=extent, fe=fe, N=N_time, comp='Z')\n",
    "    t2 = ttime.perf_counter()\n",
    "    print(\" Time for station pair: \", id_A, id_B, \" elapsed: \", t2-t1)\n",
    "    "
   ]
  },
  {
   "cell_type": "markdown",
   "metadata": {},
   "source": [
    "## Plot"
   ]
  },
  {
   "cell_type": "code",
   "execution_count": null,
   "metadata": {},
   "outputs": [],
   "source": [
    "corr.to_netcdf('./CCF/ccf_%s_%s_%d%02d%02d%02d.nc'%(id_A, id_B, date_vect[0],date_vect[1],date_vect[2],date_vect[3]))\n",
    "## Plot CCF\n",
    "corr.plot()\n",
    "plt.show()"
   ]
  }
 ],
 "metadata": {
  "kernelspec": {
   "display_name": "mypy3.8",
   "language": "python",
   "name": "python3"
  },
  "language_info": {
   "codemirror_mode": {
    "name": "ipython",
    "version": 3
   },
   "file_extension": ".py",
   "mimetype": "text/x-python",
   "name": "python",
   "nbconvert_exporter": "python",
   "pygments_lexer": "ipython3",
   "version": "3.8.18"
  }
 },
 "nbformat": 4,
 "nbformat_minor": 2
}
