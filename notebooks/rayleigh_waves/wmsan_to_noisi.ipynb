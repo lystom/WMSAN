{
 "cells": [
  {
   "cell_type": "markdown",
   "metadata": {},
   "source": [
    "# WMSAN to noisi"
   ]
  },
  {
   "cell_type": "code",
   "execution_count": 1,
   "metadata": {},
   "outputs": [],
   "source": [
    "## Distributed python packages\n",
    "import os\n",
    "import datetime\n",
    "import numpy as np\n",
    "import matplotlib\n",
    "import matplotlib.pyplot as plt\n",
    "import xarray as xr\n",
    "import re\n",
    "\n",
    "from math import radians, log\n",
    "from wmsan.wmsan_to_noisi import run, create_sourcegrid_WW3\n",
    "__author__ = \"Laura Ermert, Lisa Tomasetto\"\n",
    "__version__ = \"2024.1.3\"\n",
    "__maintainer__ = \"Lisa Tomasetto\"\n",
    "__email__ = \"lisa.tomasetto@univ-grenoble-alpes.fr\"\n",
    "__status__ = \"Production\""
   ]
  },
  {
   "cell_type": "markdown",
   "metadata": {},
   "source": [
    "## Make Nice Plots"
   ]
  },
  {
   "cell_type": "code",
   "execution_count": 2,
   "metadata": {},
   "outputs": [],
   "source": [
    "plt.style.use(\"ggplot\")\n",
    "SMALL_SIZE = 18\n",
    "MEDIUM_SIZE = 22\n",
    "BIGGER_SIZE = 24\n",
    "\n",
    "plt.rc('font', size=SMALL_SIZE)          # controls default text sizes\n",
    "plt.rc('axes', titlesize=SMALL_SIZE)     # fontsize of the axes title\n",
    "plt.rc('axes', labelsize=MEDIUM_SIZE)    # fontsize of the x and y labels\n",
    "plt.rc('xtick', labelsize=SMALL_SIZE)    # fontsize of the tick labels\n",
    "plt.rc('ytick', labelsize=SMALL_SIZE)    # fontsize of the tick labels\n",
    "plt.rc('legend', fontsize=SMALL_SIZE)    # legend fontsize\n",
    "plt.rc('figure', titlesize=BIGGER_SIZE)  # fontsize of the figure title\n",
    "matplotlib.rcParams['pdf.fonttype'] = 42"
   ]
  },
  {
   "cell_type": "markdown",
   "metadata": {},
   "source": [
    "## WMSAN to Noisi\n",
    "\n",
    "This Notebook aims at transforming the outputs of the equivalent vertical force matrix into a starting model for noisi cross-correlation modeling and source inversion.\n",
    "\n",
    "1. Install noisi\n",
    "\n",
    "    Please follow the instructions to install [noisi](https://github.com/lermert/noisi) and run the noisi_introduction.ipynb Jupyter notebook until Step 4 (excluded).\n",
    "\n",
    "2. Compute Equivalent Vertical Source Maps\n",
    "\n",
    "    Go to ```/ww3-source-maps/notebooks/rayleigh-waves/```. \n",
    "    \n",
    "    Run the Jupyter notebook ```microseismic_sources.ipynb``` with the option ```save = True ```.\n",
    "\n",
    "3. Now you can run this script.\n",
    "\n",
    "    It will generate a file ```sourcegrid.npy``` in the noisi examples directory ```noisi/noisi/examples/<example_name>```.\n",
    "\n",
    "    Then it will generate an hdf5 file F_yyyymmddhh.h5 which you can rename ```starting_model.h5```and copy in  ```/noisi/noisi/examples/wmsan/source_1/iteration_0```.\n",
    "\n",
    "    Continue running the ```noisi_introduction.ipynb``` notebook from Step 5.\n"
   ]
  },
  {
   "cell_type": "markdown",
   "metadata": {},
   "source": [
    "## Generate Source Grid\n",
    "\n",
    "Once you run the next cell, a file named ```sourcegrid.npy``` should be in the noisi example directory you fill in."
   ]
  },
  {
   "cell_type": "code",
   "execution_count": 3,
   "metadata": {},
   "outputs": [],
   "source": [
    "create_sourcegrid_WW3(-78, 80.5, -180, 180, '/Users/tomasetl/Documents/code/noisi/noisi/examples/wmsan/')"
   ]
  },
  {
   "cell_type": "markdown",
   "metadata": {},
   "source": [
    "## Create Starting Model\n",
    "\n",
    "Then create a strating model to compute cross-correlations using noisi.\n",
    "\n",
    "After running  ```microseismic_sources.ipynb``` with the option ```save = True ```, \n",
    "you should see netcdf files matching corresponding dates in the ```/ww3-source-maps/notebooks/rayleigh-waves/F/``` directory. \n",
    "\n",
    "These files will be reformatted to fit the noisi format of the ```starting_model.h5```given a source grid."
   ]
  },
  {
   "cell_type": "code",
   "execution_count": 4,
   "metadata": {},
   "outputs": [
    {
     "name": "stdout",
     "output_type": "stream",
     "text": [
      "<xarray.Dataset> Size: 16MB\n",
      "Dimensions:    (frequency: 18, latitude: 317, longitude: 720, time: 240)\n",
      "Coordinates:\n",
      "  * latitude   (latitude) float32 1kB -78.0 -77.5 -77.0 -76.5 ... 79.0 79.5 80.0\n",
      "  * longitude  (longitude) float32 3kB -180.0 -179.5 -179.0 ... 179.0 179.5\n",
      "  * time       (time) datetime64[ns] 2kB 2008-11-15T06:00:00 ... 2008-11-15T0...\n",
      "  * frequency  (frequency) float32 72B 0.09027 0.09929 0.1092 ... 0.4148 0.4562\n",
      "Data variables:\n",
      "    F_f        (frequency, latitude, longitude) float32 16MB 0.0 0.0 ... 0.0 0.0\n",
      "Attributes:\n",
      "    title:     Equivalent Vertical Force on 2008-11-15-06\n",
      "    subtitle:  Equivalent Force every 3 hours for the secondary microseismic ...\n",
      "Frequency 1 of 18\n",
      "Frequency 2 of 18\n",
      "Frequency 3 of 18\n",
      "Frequency 4 of 18\n",
      "Frequency 5 of 18\n",
      "Frequency 6 of 18\n",
      "Frequency 7 of 18\n",
      "Frequency 8 of 18\n",
      "Frequency 9 of 18\n",
      "Frequency 10 of 18\n",
      "Frequency 11 of 18\n",
      "Frequency 12 of 18\n",
      "Frequency 13 of 18\n",
      "Frequency 14 of 18\n",
      "Frequency 15 of 18\n",
      "Frequency 16 of 18\n",
      "Frequency 17 of 18\n",
      "Frequency 18 of 18\n"
     ]
    }
   ],
   "source": [
    "    # INPUT ######################################################################\n",
    "    noise_source_file = \"./F/F_2008111506.nc\"  # the source file from microseism_source.ipynb in N.s^{1/2}\n",
    "    # To compute the source term we need the square of the values in N^2.s (already multiplied by the surface area in m^2)\n",
    "\n",
    "    grid_file = \"/Users/tomasetl/Documents/code/noisi/noisi/examples/wmsan/sourcegrid.npy\"\n",
    "    # the green's function file is needed to get the right frequency sampling\n",
    "    # and the right number of time steps.\n",
    "    greens_function_file = \"/Users/tomasetl/Documents/code/noisi/noisi/examples/wmsan/greens/G.SSB..MXZ.h5\"\n",
    "    \n",
    "    # END ##################################################################\n",
    "    output_file = re.sub(\"nc\", \"h5\", noise_source_file)\n",
    "    if os.path.exists(output_file):\n",
    "        raise ValueError(\"Output file must not exist yet: \" + output_file)\n",
    "    run(noise_source_file, grid_file, greens_function_file)"
   ]
  },
  {
   "cell_type": "markdown",
   "metadata": {},
   "source": [
    "## Continue with the Noisi Introduction notebook\n",
    "\n",
    "1. Rename the output .h5 file as ```starting_model.h5```\n",
    "2. Copy it in the ```/noisi/noisi/examples/wmsan/source_1/iteration_0``` directory.\n",
    "3. Continue running the ```noisi_introduction.ipynb``` notebook from Step 5."
   ]
  }
 ],
 "metadata": {
  "kernelspec": {
   "display_name": "notebook",
   "language": "python",
   "name": "python3"
  },
  "language_info": {
   "codemirror_mode": {
    "name": "ipython",
    "version": 3
   },
   "file_extension": ".py",
   "mimetype": "text/x-python",
   "name": "python",
   "nbconvert_exporter": "python",
   "pygments_lexer": "ipython3",
   "version": "3.12.4"
  }
 },
 "nbformat": 4,
 "nbformat_minor": 2
}
