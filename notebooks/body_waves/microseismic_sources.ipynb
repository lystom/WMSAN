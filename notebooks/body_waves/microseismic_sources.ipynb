{
 "cells": [
  {
   "cell_type": "code",
   "execution_count": 1,
   "metadata": {},
   "outputs": [],
   "source": [
    "## Distributed python packages\n",
    "import os\n",
    "import numpy as np\n",
    "import matplotlib.pyplot as plt\n",
    "import cartopy.crs as ccrs\n",
    "import xarray as xr\n",
    "\n",
    "from math import radians, log\n",
    "from sys import exit\n",
    "from wmsan.read_hs_p2l import read_hs, read_p2l\n",
    "from wmsan.subfunctions_body_waves import open_bathy, ampli, loop_ww3_sources, download_ww3_local\n",
    "\n",
    "__author__ = \"Lisa Tomasetto\"\n",
    "__copyright__ = \"Copyright 2024, UGA\"\n",
    "__credits__ = [\"Lisa Tomasetto\"]\n",
    "__version__ = \"0.1\"\n",
    "__maintainer__ = \"Lisa Tomasetto\"\n",
    "__email__ = \"lisa.tomasetto@univ-grenoble-alpes.fr\"\n",
    "__status__ = \"Production\""
   ]
  },
  {
   "cell_type": "markdown",
   "metadata": {},
   "source": [
    "# Secondary Microseisms Sources of Ambient Noise\n",
    "\n",
    "This Jupyter Notebook aims at modelizing ambient noise sources in the secondary microseismic band, i.e. from 3s to 12s of period.\n",
    "We will compute the equivalent vertical force $ \\text{F} $ applied at the seafloor in $ \\text{N} $. We use oceanic hindcast WAVEWATCHIII data for this modelization.\n",
    "\n",
    "$ F(f_s) = 2\\pi \\sqrt{\\int_{-\\pi/2}^{\\pi/2} \\int_0^{2\\pi} \\int_{f_{min}}^{f_{max}} c_{P/S}^2(\\lambda', \\phi', f_s) F_{p3D}(k_2 \\approx 0, f_s) R_E^2sin\\phi'd\\lambda'd\\phi' df} $\n",
    "\n",
    "where:\n",
    "- $ f_s $ is the seismic frequency in Hz (twice the ocean wave frequency)\n",
    "- $ f_{min} $ and $ f_{max} $, the lower and upper frequency bounds.\n",
    "- $ c_{P/S} $ the amplification coefficients for P or S waves, from Gualtieri et al. (2014).\n",
    "- $ F_{p3D}(k_2 \\approx 0, f_s) $ the spectral density of the pressure field at the ocean surface or directional wave spectra in $ \\text{Pa}^2.\\text{m}^2.\\text{s} $.\n",
    "- $ R_E $ the Earth's radius\n",
    "-  $ \\lambda' $ the latitude and $ \\phi' $ the longitude\n",
    "\n",
    "In our case we will focus on the period band $ T \\in [3, 10] $ s, where body waves can be retrieved. So our maps will be integrated from $ f_{min}=0.1 \\text{ Hz}$ to $f_{max}=0.3 \\text{ Hz}$. \n",
    "\n",
    "The saved field is the equivalent vertical force not integrated in frequency, therefore its unit is $ \\text{N}.\\text{s}^{\\frac{1}{2}} $\n",
    "\n",
    "#### References\n",
    "* L. Gualtieri, E. Stutzmann, V. Farra, Y. Capdeville, M. Schimmel, F. Ardhuin, A. Morelli, Modelling the ocean site effect on seismic noise body waves, Geophysical Journal International, Volume 197, Issue 2, May 2014, Pages 1096–1106, https://doi-org.insu.bib.cnrs.fr/10.1093/gji/ggu042\n",
    "* Boué, P., & Tomasetto, L. (2024). Opportune detections of global P-wave propagation from microseisms interferometry. Comptes Rendus. Géoscience, 356(S4), 1-16.\n",
    "* The WAVEWATCH III® Development Group (WW3DG), 2019: User manual and system documentation of WAVEWATCH III® version 6.07. Tech. Note 333, NOAA/NWS/NCEP/MMAB, College Park, MD, USA, 326 pp. + Appendices."
   ]
  },
  {
   "cell_type": "markdown",
   "metadata": {},
   "source": [
    "## Parameters\n",
    "This implementation depends on a few parameters, some are described in the above formula but some are for the user to choose.\n",
    "### Physical Constants\n",
    "Default values are given below, please change with your own if needed.\n"
   ]
  },
  {
   "cell_type": "code",
   "execution_count": 2,
   "metadata": {},
   "outputs": [],
   "source": [
    "F1 = 1/10  # frequency lower bound\n",
    "F2 = 1/3  # frequency upper bound\n",
    "wave_type = 'P'  # 'P' or 'S'\n",
    "parameters = [F1, F2]"
   ]
  },
  {
   "cell_type": "markdown",
   "metadata": {},
   "source": [
    "## Dates\n",
    "Then the dates the user wants to focus on, loops on hours, days, months and years are available setting an empty bracket symbol '[]'."
   ]
  },
  {
   "cell_type": "code",
   "execution_count": 3,
   "metadata": {},
   "outputs": [],
   "source": [
    "YEAR = 2014  # year of interest\n",
    "MONTH = [1]  # loop if array, compute all months of the year if empty list []\n",
    "DAY = []  # loop if array, compute all days of the month if empty list []\n",
    "HOUR = []  # loop if array, compute every 3 hours of the day if empty list []\n",
    "\n",
    "date_vec = [YEAR, MONTH, DAY, HOUR]"
   ]
  },
  {
   "cell_type": "markdown",
   "metadata": {},
   "source": [
    "## Spatial Extent"
   ]
  },
  {
   "cell_type": "code",
   "execution_count": 4,
   "metadata": {},
   "outputs": [],
   "source": [
    "lat_min = -78 # -78 min\n",
    "lat_max = 80 # 80 max\n",
    "lon_min = -180 # -180 min\n",
    "lon_max = 180 # 180 max\n",
    "\n",
    "extent = [lon_min, lon_max, lat_min, lat_max]"
   ]
  },
  {
   "cell_type": "markdown",
   "metadata": {},
   "source": [
    "## Paths to Files"
   ]
  },
  {
   "cell_type": "code",
   "execution_count": 5,
   "metadata": {},
   "outputs": [],
   "source": [
    "# ftp path of WW3 data\n",
    "ftp_path_to_files = \"ftp://ftp.ifremer.fr/ifremer/dataref/ww3/GLOBMULTI_ERA5_GLOBCUR_01/GLOB-30M/%d/FIELD_NC/\"%YEAR\n",
    "\n",
    "# local path for WW3 data\n",
    "ww3_local_path = \"../../data/%d/\"%YEAR  # path where the data will be downloaded\n",
    "\n",
    "# bathymetry default\n",
    "file_bathy = \"../../data/ww3.07121700.dpt\"  #0.5x0.5 degree grid bathymetry\n",
    "\n",
    "paths = [file_bathy, ww3_local_path]"
   ]
  },
  {
   "cell_type": "markdown",
   "metadata": {},
   "source": [
    "## Download WW3 Files\n",
    "For the model files go to ftp://ftp.ifremer.fr/ifremer/dataref/ww3/GLOBMULTI_ERA5_GLOBCUR_01/GLOB-30M/, then choose the year(s) and month(s) corresponding files. We download the directional wave spectra file, extension p2l.nc (default).\n",
    "If you want to download the full output of WW3 set ```full = True``` \n",
    "It will download a .nc file containing the full output of WW3 (including significant waveheight Hs)."
   ]
  },
  {
   "cell_type": "code",
   "execution_count": 6,
   "metadata": {},
   "outputs": [
    {
     "name": "stdout",
     "output_type": "stream",
     "text": [
      "[Errno 17] File exists: '../../data/2014/'\n",
      "Downloading can take some time...\n",
      "\n",
      "-----------------------------------------------------------------\n",
      "\n",
      "../../data/2014/LOPS_WW3-GLOB-30M_201401_p2l.nc already downloaded\n",
      "\n",
      "-----------------------------------------------------------------\n",
      "\n",
      "WW3 files downloaded in ../../data/2014/\n",
      "current directory :  /Users/tomasetl/GITLAB/ww3-source-maps/notebooks/body_waves\n"
     ]
    }
   ],
   "source": [
    "download_ww3_local(YEAR, MONTH, ftp_path_to_files, ww3_local_path)"
   ]
  },
  {
   "cell_type": "markdown",
   "metadata": {},
   "source": [
    "## Bathymetry file \n",
    "The bathymetry (or waterlevel) is necessary to compute the site effect for a given phase.\n",
    "\n",
    "Two bathymetry grids are available for this notebook: \n",
    "- (default) \"ww3.07121700.dpt\": a 0.5°x0.5° bathymetry file corresponding to WW3 hindcast resolution.\n",
    "\n",
    "- (to download) a 1 arcmin resolution ETOPOv2 bathymetry netcdf file.(```refined_bathymetry = True```) \n",
    "\n",
    "Both file should be located in the ```ww3-source-maps/data/``` directory.\n",
    "\n",
    "ETOPOv2 file is also available here: https://www.ngdc.noaa.gov/thredds/catalog/global/ETOPO2022/60s/60s_bed_elev_netcdf/catalog.html?dataset=globalDatasetScan/ETOPO2022/60s/60s_bed_elev_netcdf/ETOPO_2022_v1_60s_N90W180_bed.nc\n",
    "- [WARNING] use this refined bathymetry on small grids otherwise memory errors might occur (typically 30° lat x 30° lon)\n",
    "\n",
    "If you wish to use your own bathymetry file:\n",
    "- latitude in ° 1D array should be named ```zlat```.\n",
    "- longitude in ° 1D array should be named ```zlon```.\n",
    "- depth in meters 2D grid should be named ```dpt1```."
   ]
  },
  {
   "cell_type": "code",
   "execution_count": 7,
   "metadata": {},
   "outputs": [],
   "source": [
    "dpt1, zlon, zlat = open_bathy(file_bathy, refined_bathymetry=False, extent=extent)"
   ]
  },
  {
   "cell_type": "markdown",
   "metadata": {},
   "source": [
    "### Save and Plot\n",
    "If you want to save the 3-hourly matrix as a netcdf file set the save variable to True.\n",
    "```save = True ```\n",
    "\n",
    "If you want to plot the maps and save them as .png files set the plot_type variable to:\n",
    "* ```plot_type = 'hourly'``` for plots every 3-hours (WW3 resolution)\n",
    "* ```plot_type = 'daily'``` for summed daily plots\n",
    "* ```plot_type = 'monthly'``` for summed monthly plots\n",
    "* ```plot_type = 'yearly'``` for summed yearly plots"
   ]
  },
  {
   "cell_type": "code",
   "execution_count": 8,
   "metadata": {},
   "outputs": [],
   "source": [
    "save = False  # save matrix as netcdf\n",
    "plot_type = 'daily' # plot Force 'hourly', 'daily', 'monthly', 'yearly'"
   ]
  },
  {
   "cell_type": "markdown",
   "metadata": {},
   "source": [
    "## Main Loop"
   ]
  },
  {
   "cell_type": "code",
   "execution_count": 9,
   "metadata": {},
   "outputs": [
    {
     "name": "stdout",
     "output_type": "stream",
     "text": [
      "File WW3  ../../data/2014//LOPS_WW3-GLOB-30M_201401_p2l.nc\n",
      "P source maps done!\n"
     ]
    }
   ],
   "source": [
    "loop_ww3_sources(paths, dpt1, zlon, zlat,\n",
    "                 wave_type = wave_type,\n",
    "                 date_vec = date_vec, extent = extent, parameters = parameters, \n",
    "                 plot_type = plot_type, save = save, vmin = 1e7, vmax = 1e10)"
   ]
  }
 ],
 "metadata": {
  "kernelspec": {
   "display_name": "notebook",
   "language": "python",
   "name": "python3"
  },
  "language_info": {
   "codemirror_mode": {
    "name": "ipython",
    "version": 3
   },
   "file_extension": ".py",
   "mimetype": "text/x-python",
   "name": "python",
   "nbconvert_exporter": "python",
   "pygments_lexer": "ipython3",
   "version": "3.12.3"
  }
 },
 "nbformat": 4,
 "nbformat_minor": 2
}
