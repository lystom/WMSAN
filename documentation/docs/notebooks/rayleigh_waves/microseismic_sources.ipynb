{
 "cells": [
  {
   "cell_type": "markdown",
   "metadata": {},
   "source": [
    "# Rayleigh Waves Equivalent Vertical Force"
   ]
  },
  {
   "cell_type": "code",
   "execution_count": 1,
   "metadata": {},
   "outputs": [],
   "source": [
    "## Distributed python packages\n",
    "import os\n",
    "import numpy as np\n",
    "import matplotlib.pyplot as plt\n",
    "import cartopy.crs as ccrs\n",
    "import xarray as xr\n",
    "\n",
    "from math import radians, log\n",
    "from sys import exit\n",
    "\n",
    "from wmsan.subfunctions_rayleigh_waves import loop_ww3_sources, download_ww3_local, open_bathy\n",
    "\n",
    "__author__ = \"Lisa Tomasetto\"\n",
    "__copyright__ = \"Copyright 2024, UGA\"\n",
    "__credits__ = [\"Lisa Tomasetto\"]\n",
    "__version__ = \"0.1\"\n",
    "__maintainer__ = \"Lisa Tomasetto\"\n",
    "__email__ = \"lisa.tomasetto@univ-grenoble-alpes.fr\"\n",
    "__status__ = \"Production\""
   ]
  },
  {
   "cell_type": "markdown",
   "metadata": {},
   "source": [
    "## Secondary Microseisms Sources of Ambient Noise\n",
    "\n",
    "This Jupyter Notebook aims at modelizing ambient noise sources in the secondary microseismic band, i.e. from 2s to 12s of period.\n",
    "We will compute the equivalent vertical force $\\text{F}$ applied at the seafloor in $\\text{N}$.  We use oceanic hindcast WAVEWATCHIII data for this modelization.\n",
    "\n",
    "$$F = 2\\pi \\sqrt{\\int_{-\\pi/2}^{\\pi/2} \\int_0^{2\\pi} \\int_{f_{min}}^{f_{max}} C^2(\\lambda', \\phi', f_s) F_{p3D}(k_2 \\approx 0, f_s) R_E^2sin\\phi'd\\lambda'd\\phi' df}$$\n",
    "\n",
    "where:\n",
    "- $f_s$ is the seismic frequency in Hz (twice the ocean wave frequency)\n",
    "- $f_{min}$ and $f_{max}$, the lower and upper frequency bounds, in Hz.\n",
    "- $C$ the amplification coefficients for Rayleigh waves, from Longuet-Higgins (1950), no dimension.\n",
    "- $F_{p3D}(k_2 \\approx 0, f_s)$ the spectral density of the pressure field at the ocean surface or directional wave spectra in $\\text{Pa}^2.\\text{m}^2.\\text{s}$.\n",
    "- $R_E$ the Earth's radius in m.\n",
    "- $\\lambda'$ the latitude and $\\phi'$ the longitude.\n",
    "\n",
    "Note that the NetCDF matrix saved as outputs contain the equivalent vertical force spectrum, not integrated in frequency, in $\\text{N}.\\text{s}^{\\frac{1}{2}}$. It can be used as a source distribution for synthetic cross-correlation computation.\n",
    "\n",
    "In our case we will focus on the period band $T \\in [2, 12]$ s, where Rayleigh waves can be retrieved. So our maps will be integrated from $f_{min}=0.084 \\text{ Hz}$ to $f_{max}=0.2 \\text{ Hz}$. \n",
    "\n",
    "#### References\n",
    "- [The WAVEWATCH III® Development Group (WW3DG), 2019: User manual and system documentation of WAVEWATCH III® version 6.07. Tech. Note 333, NOAA/NWS/NCEP/MMAB, College Park, MD, USA, 326 pp. + Appendices.](https://www.weather.gov/sti/coastalact_ww3)\n",
    "\n",
    "- [Longuet-Higgins, M. S. (1950). A theory of the origin of microseisms. Philosophical Transactions of the Royal Society of London. Series A, Mathematical and Physical Sciences, 243(857), 1-35.](https://royalsocietypublishing.org/doi/10.1098/rsta.1950.0012)\n",
    "\n"
   ]
  },
  {
   "cell_type": "markdown",
   "metadata": {},
   "source": [
    "## Parameters\n",
    "This implementation depends on a few parameters, some are described in the above formula but some are for the user to choose.\n",
    "### Physical Constants\n",
    "Default values are given below, please change with your own if needed.\n"
   ]
  },
  {
   "cell_type": "code",
   "execution_count": 2,
   "metadata": {},
   "outputs": [],
   "source": [
    "F1 = 1/12  # frequency lower bound\n",
    "F2 = 1/2 # frequency upper bound\n",
    "parameters = [F1, F2]"
   ]
  },
  {
   "cell_type": "markdown",
   "metadata": {},
   "source": [
    "## Dates\n",
    "Then the dates the user wants to focus on, loops on hours, days, months and years are available setting an empty bracket symbol '[]'."
   ]
  },
  {
   "cell_type": "code",
   "execution_count": 3,
   "metadata": {},
   "outputs": [],
   "source": [
    "YEAR = 2008  # year of interest\n",
    "MONTH = [11]  # loop if array, compute all months of the year if empty list []\n",
    "DAY = np.arange(14, 20)  # loop if array, compute all days of the month if empty list []\n",
    "HOUR = []  # loop if array, compute every 3 hours of the day if empty list []\n",
    "\n",
    "date_vec = [YEAR, MONTH, DAY, HOUR]"
   ]
  },
  {
   "cell_type": "markdown",
   "metadata": {},
   "source": [
    "## Spatial Extent"
   ]
  },
  {
   "cell_type": "code",
   "execution_count": 4,
   "metadata": {},
   "outputs": [],
   "source": [
    "lat_min = -78 # -78 min\n",
    "lat_max = 80 # 80 max\n",
    "lon_min = -180 # -180 min\n",
    "lon_max = 180 # 180 max\n",
    "\n",
    "extent = [lon_min, lon_max, lat_min, lat_max]"
   ]
  },
  {
   "cell_type": "markdown",
   "metadata": {},
   "source": [
    "## Paths to Files"
   ]
  },
  {
   "cell_type": "code",
   "execution_count": 5,
   "metadata": {},
   "outputs": [],
   "source": [
    "# ftp path of WW3 data\n",
    "ftp_path_to_files = \"ftp://ftp.ifremer.fr/ifremer/ww3/HINDCAST/SISMO/GLOBAL05_%d_REF102040/\"%YEAR\n",
    "\n",
    "# local path for WW3 data\n",
    "ww3_local_path = \"../../data/%d\"%YEAR  # path where the data will be downloaded\n",
    "\n",
    "# bathymetry default\n",
    "file_bathy = \"../../data/LOPS_WW3-GLOB-30M_dataref_dpt.nc\"  #0.5x0.5 degree grid bathymetry\n",
    "\n",
    "paths = [file_bathy, ww3_local_path]"
   ]
  },
  {
   "cell_type": "markdown",
   "metadata": {},
   "source": [
    "## Download WW3 Files\n",
    "For the model files go to ftp://ftp.ifremer.fr/ifremer/ww3/HINDCAST/SISMO/, then choose the year(s) and month(s) corresponding files. We download the directional wave spectra file, extension p2l.nc (default).\n",
    "It will download a .nc file containing the full output of WW3 (including significant waveheight Hs).\n",
    "\n",
    "To download other versions add the prefix option, for example:  ```prefix = 'SWOT_WW3-GLOB-30M'```."
   ]
  },
  {
   "cell_type": "code",
   "execution_count": 6,
   "metadata": {},
   "outputs": [
    {
     "name": "stdout",
     "output_type": "stream",
     "text": [
      "[Errno 17] File exists: '../../data/2008'\n",
      "Downloading can take some time...\n",
      "\n",
      "-----------------------------------------------------------------\n",
      "\n",
      "ftp://ftp.ifremer.fr/ifremer/ww3/HINDCAST/SISMO/GLOBAL05_2008_REF102040/WW3-GLOB-30M_200811_p2l.nc downloaded\n",
      "\n",
      "-----------------------------------------------------------------\n",
      "\n",
      "WW3 files downloaded in ../../data/2008\n",
      "current directory :  /Users/tomasetl/GITLAB/ww3-source-maps/notebooks/rayleigh_waves\n"
     ]
    },
    {
     "name": "stderr",
     "output_type": "stream",
     "text": [
      "2024-07-02 12:10:56 URL: ftp://ftp.ifremer.fr/ifremer/ww3/HINDCAST/SISMO/GLOBAL05_2008_REF102040/WW3-GLOB-30M_200811_p2l.nc [1336258467] -> \"WW3-GLOB-30M_200811_p2l.nc\" [1]\n"
     ]
    }
   ],
   "source": [
    "download_ww3_local(YEAR, MONTH, ftp_path_to_files, ww3_local_path)"
   ]
  },
  {
   "cell_type": "markdown",
   "metadata": {},
   "source": [
    "## Bathymetry file \n",
    "The bathymetry (or waterlevel) is necessary to compute the site effect for a given phase.\n",
    "\n",
    "Two bathymetry grids are available for this notebook: \n",
    "- (default) \"../../data/LOPS_WW3-GLOB-30M_dataref_dpt.nc\": a 0.5°x0.5° bathymetry file corresponding to WW3 hindcast resolution.\n",
    "\n",
    "- (to download) a 1 arcmin resolution ETOPOv2 bathymetry netcdf file.(```refined_bathymetry = True```) \n",
    "\n",
    "Both file should be located in the ```ww3-source-maps/data/``` directory.\n",
    "\n",
    "ETOPOv2 file is also available here: https://www.ngdc.noaa.gov/thredds/catalog/global/ETOPO2022/60s/60s_bed_elev_netcdf/catalog.html?dataset=globalDatasetScan/ETOPO2022/60s/60s_bed_elev_netcdf/ETOPO_2022_v1_60s_N90W180_bed.nc\n",
    "- [WARNING] use this refined bathymetry on small grids otherwise memory errors might occur (typically 30° lat x 30° lon)\n",
    "\n",
    "If you wish to use your own bathymetry file:\n",
    "- latitude in ° 1D array should be named ```zlat```.\n",
    "- longitude in ° 1D array should be named ```zlon```.\n",
    "- depth in meters 2D grid should be named ```dpt1```."
   ]
  },
  {
   "cell_type": "code",
   "execution_count": 7,
   "metadata": {},
   "outputs": [],
   "source": [
    "dpt1, zlon, zlat = open_bathy(file_bathy, refined_bathymetry=False, extent=extent)"
   ]
  },
  {
   "cell_type": "markdown",
   "metadata": {},
   "source": [
    "### Save and Plot\n",
    "If you want to save the 3-hourly matrix as a netcdf file set the save variable to True.\n",
    "```save = True ```\n",
    "\n",
    "If you want to plot the maps and save them as .png files set the plot_type variable to:\n",
    "* ```plot_type = 'hourly'``` for plots every 3-hours (WW3 resolution)\n",
    "* ```plot_type = 'daily'``` for summed daily plots\n",
    "* ```plot_type = 'monthly'``` for summed monthly plots\n",
    "* ```plot_type = 'yearly'``` for summed yearly plots"
   ]
  },
  {
   "cell_type": "code",
   "execution_count": 8,
   "metadata": {},
   "outputs": [],
   "source": [
    "save = True  # save matrix as netcdf\n",
    "plot_type = 'hourly' # plot Force 'hourly', 'daily', 'monthly', 'yearly'"
   ]
  },
  {
   "cell_type": "markdown",
   "metadata": {},
   "source": [
    "## Main Loop\n",
    "\n",
    "To use other WW3 files than default add the prefix option, for example:  ```prefix = 'SWOT_WW3-GLOB-30M'```."
   ]
  },
  {
   "cell_type": "code",
   "execution_count": 9,
   "metadata": {},
   "outputs": [
    {
     "name": "stdout",
     "output_type": "stream",
     "text": [
      "File WW3  ../../data/2008/WW3-GLOB-30M_200811_p2l.nc\n",
      "Equivalent Vertical Force source maps done!\n"
     ]
    }
   ],
   "source": [
    "loop_ww3_sources(paths, dpt1, zlon, zlat,\n",
    "                 date_vec = date_vec, extent = extent, parameters = parameters, \n",
    "                 plot_type = plot_type, save = save, vmin = 0, vmax = 1e9)"
   ]
  }
 ],
 "metadata": {
  "kernelspec": {
   "display_name": "notebook",
   "language": "python",
   "name": "python3"
  },
  "language_info": {
   "codemirror_mode": {
    "name": "ipython",
    "version": 3
   },
   "file_extension": ".py",
   "mimetype": "text/x-python",
   "name": "python",
   "nbconvert_exporter": "python",
   "pygments_lexer": "ipython3",
   "version": "3.12.3"
  }
 },
 "nbformat": 4,
 "nbformat_minor": 2
}
